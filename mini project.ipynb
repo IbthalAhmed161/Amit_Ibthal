{
 "cells": [
  {
   "cell_type": "code",
   "execution_count": null,
   "id": "b93b3cf3",
   "metadata": {},
   "outputs": [],
   "source": [
    "while True :\n",
    "    x = input('enter operator (+,-,/,*)')\n",
    "    num1 = float(input('enter num1'))\n",
    "    num2 = float(input('enter num2'))\n",
    "    if x == '+' :\n",
    "        print('sum',num1 + num2)\n",
    "    elif x == '-' :\n",
    "        print('minus',num1 - num2)\n",
    "    elif x == '/' :\n",
    "        print('div',num1 / num2)\n",
    "    elif x == '*' :\n",
    "        print('mult',num1 * num2)\n",
    "    end = input('do you need anather calculation ?? (yes/no)')\n",
    "    \n",
    "    if end == 'yes' :\n",
    "        continue\n",
    "    elif end == 'no' :\n",
    "         print('thank you')\n",
    "         break\n",
    "    \n",
    "\n"
   ]
  },
  {
   "cell_type": "code",
   "execution_count": null,
   "id": "935c03b7",
   "metadata": {},
   "outputs": [],
   "source": []
  },
  {
   "cell_type": "code",
   "execution_count": null,
   "id": "9b512d2e",
   "metadata": {},
   "outputs": [],
   "source": []
  },
  {
   "cell_type": "code",
   "execution_count": null,
   "id": "159afb19",
   "metadata": {},
   "outputs": [],
   "source": []
  }
 ],
 "metadata": {
  "kernelspec": {
   "display_name": "Python 3 (ipykernel)",
   "language": "python",
   "name": "python3"
  },
  "language_info": {
   "codemirror_mode": {
    "name": "ipython",
    "version": 3
   },
   "file_extension": ".py",
   "mimetype": "text/x-python",
   "name": "python",
   "nbconvert_exporter": "python",
   "pygments_lexer": "ipython3",
   "version": "3.9.7"
  }
 },
 "nbformat": 4,
 "nbformat_minor": 5
}
